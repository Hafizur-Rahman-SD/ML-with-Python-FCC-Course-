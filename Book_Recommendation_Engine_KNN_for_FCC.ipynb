{
  "nbformat": 4,
  "nbformat_minor": 0,
  "metadata": {
    "colab": {
      "provenance": [],
      "authorship_tag": "ABX9TyP7K02vipBCLeJABrAJdCAQ",
      "include_colab_link": true
    },
    "kernelspec": {
      "name": "python3",
      "display_name": "Python 3"
    },
    "language_info": {
      "name": "python"
    }
  },
  "cells": [
    {
      "cell_type": "markdown",
      "metadata": {
        "id": "view-in-github",
        "colab_type": "text"
      },
      "source": [
        "<a href=\"https://colab.research.google.com/github/Hafizur-Rahman-SD/ML-with-Python-FCC-Course-/blob/main/Book_Recommendation_Engine_KNN_for_FCC.ipynb\" target=\"_parent\"><img src=\"https://colab.research.google.com/assets/colab-badge.svg\" alt=\"Open In Colab\"/></a>"
      ]
    },
    {
      "cell_type": "code",
      "execution_count": 4,
      "metadata": {
        "colab": {
          "base_uri": "https://localhost:8080/"
        },
        "id": "7a3L8cXs0YOY",
        "outputId": "11c13351-0708-48bd-daa3-3f072aedcade"
      },
      "outputs": [
        {
          "output_type": "stream",
          "name": "stdout",
          "text": [
            "✅ Libraries imported successfully!\n"
          ]
        }
      ],
      "source": [
        "# Import all required libraries\n",
        "# These help in data loading, analysis, and KNN model training\n",
        "\n",
        "import numpy as np\n",
        "import pandas as pd\n",
        "from scipy.sparse import csr_matrix\n",
        "from sklearn.neighbors import NearestNeighbors\n",
        "import matplotlib.pyplot as plt\n",
        "\n",
        "print(\"✅ Libraries imported successfully!\")\n"
      ]
    },
    {
      "cell_type": "code",
      "source": [
        "# Download dataset directly from FreeCodeCamp server\n",
        "# This ensures you get the correct version of the Book-Crossings dataset\n",
        "\n",
        "!wget https://cdn.freecodecamp.org/project-data/books/book-crossings.zip -O book-crossings.zip\n",
        "!unzip -o book-crossings.zip\n",
        "\n",
        "print(\"✅ Dataset downloaded and extracted successfully!\")\n"
      ],
      "metadata": {
        "colab": {
          "base_uri": "https://localhost:8080/"
        },
        "id": "OfrgWsNR1NCQ",
        "outputId": "86421477-43a3-4206-aec2-215e070fec88"
      },
      "execution_count": 5,
      "outputs": [
        {
          "output_type": "stream",
          "name": "stdout",
          "text": [
            "--2025-10-06 14:16:55--  https://cdn.freecodecamp.org/project-data/books/book-crossings.zip\n",
            "Resolving cdn.freecodecamp.org (cdn.freecodecamp.org)... 172.67.70.149, 104.26.3.33, 104.26.2.33, ...\n",
            "Connecting to cdn.freecodecamp.org (cdn.freecodecamp.org)|172.67.70.149|:443... connected.\n",
            "HTTP request sent, awaiting response... 200 OK\n",
            "Length: 26085508 (25M) [application/zip]\n",
            "Saving to: ‘book-crossings.zip’\n",
            "\n",
            "book-crossings.zip  100%[===================>]  24.88M   151MB/s    in 0.2s    \n",
            "\n",
            "2025-10-06 14:16:55 (151 MB/s) - ‘book-crossings.zip’ saved [26085508/26085508]\n",
            "\n",
            "Archive:  book-crossings.zip\n",
            "  inflating: BX-Book-Ratings.csv     \n",
            "  inflating: BX-Books.csv            \n",
            "  inflating: BX-Users.csv            \n",
            "✅ Dataset downloaded and extracted successfully!\n"
          ]
        }
      ]
    },
    {
      "cell_type": "code",
      "source": [
        "# Load the Books and Ratings data\n",
        "# Using ISO-8859-1 encoding because dataset contains special characters\n",
        "# Semicolon (;) is used as a separator in these CSV files\n",
        "\n",
        "books_filename = 'BX-Books.csv'\n",
        "ratings_filename = 'BX-Book-Ratings.csv'\n",
        "\n",
        "df_books = pd.read_csv(\n",
        "    books_filename,\n",
        "    encoding=\"ISO-8859-1\",\n",
        "    sep=\";\",\n",
        "    usecols=['ISBN', 'Book-Title', 'Book-Author'],\n",
        "    dtype={'ISBN': 'str', 'Book-Title': 'str', 'Book-Author': 'str'}\n",
        ")\n",
        "\n",
        "df_ratings = pd.read_csv(\n",
        "    ratings_filename,\n",
        "    encoding=\"ISO-8859-1\",\n",
        "    sep=\";\",\n",
        "    usecols=['User-ID', 'ISBN', 'Book-Rating'],\n",
        "    dtype={'User-ID': 'int32', 'ISBN': 'str', 'Book-Rating': 'float32'}\n",
        ")\n",
        "\n",
        "print(\"Books shape:\", df_books.shape)\n",
        "print(\"Ratings shape:\", df_ratings.shape)\n",
        "print(df_books.head(3))\n"
      ],
      "metadata": {
        "colab": {
          "base_uri": "https://localhost:8080/"
        },
        "id": "_U-8vxRX7DFv",
        "outputId": "7224f78a-53c5-4172-bbee-8e7a9d814691"
      },
      "execution_count": 6,
      "outputs": [
        {
          "output_type": "stream",
          "name": "stdout",
          "text": [
            "Books shape: (271379, 3)\n",
            "Ratings shape: (1149780, 3)\n",
            "         ISBN            Book-Title           Book-Author\n",
            "0  0195153448   Classical Mythology    Mark P. O. Morford\n",
            "1  0002005018          Clara Callan  Richard Bruce Wright\n",
            "2  0060973129  Decision in Normandy          Carlo D'Este\n"
          ]
        }
      ]
    },
    {
      "cell_type": "code",
      "source": [
        "# Remove users with <200 ratings and books with <100 ratings\n",
        "# This ensures statistical significance for KNN model\n",
        "\n",
        "user_counts = df_ratings['User-ID'].value_counts()\n",
        "df_ratings = df_ratings[df_ratings['User-ID'].isin(user_counts[user_counts >= 200].index)]\n",
        "\n",
        "book_counts = df_ratings['ISBN'].value_counts()\n",
        "df_ratings = df_ratings[df_ratings['ISBN'].isin(book_counts[book_counts >= 100].index)]\n",
        "\n",
        "print(\"✅ Filtered dataset shape:\", df_ratings.shape)\n"
      ],
      "metadata": {
        "colab": {
          "base_uri": "https://localhost:8080/"
        },
        "id": "tAveDeMN7RUQ",
        "outputId": "f2fc8404-274a-40f2-e64a-e8b1677de5e4"
      },
      "execution_count": 7,
      "outputs": [
        {
          "output_type": "stream",
          "name": "stdout",
          "text": [
            "✅ Filtered dataset shape: (13793, 3)\n"
          ]
        }
      ]
    },
    {
      "cell_type": "code",
      "source": [
        "# Create pivot table where:\n",
        "# Rows = Books (ISBN)\n",
        "# Columns = Users (User-ID)\n",
        "# Values = Ratings\n",
        "\n",
        "book_features = df_ratings.pivot_table(index='ISBN', columns='User-ID', values='Book-Rating').fillna(0)\n",
        "\n",
        "# Convert to sparse matrix (saves memory)\n",
        "book_features_matrix = csr_matrix(book_features.values)\n",
        "\n",
        "print(\"✅ Book-user matrix created with shape:\", book_features_matrix.shape)\n"
      ],
      "metadata": {
        "colab": {
          "base_uri": "https://localhost:8080/"
        },
        "id": "5h3rNfRf7eEX",
        "outputId": "05c14bcc-f7c7-4170-9908-f00f88e83bfe"
      },
      "execution_count": 8,
      "outputs": [
        {
          "output_type": "stream",
          "name": "stdout",
          "text": [
            "✅ Book-user matrix created with shape: (100, 857)\n"
          ]
        }
      ]
    }
  ]
}